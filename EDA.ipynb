{
 "cells": [
  {
   "cell_type": "code",
   "execution_count": 112,
   "metadata": {},
   "outputs": [],
   "source": [
    "import pandas as pd\n",
    "import matplotlib.pyplot as plt\n",
    "import seaborn as sns\n",
    "import warnings\n",
    "warnings.filterwarnings('ignore')"
   ]
  },
  {
   "cell_type": "code",
   "execution_count": 113,
   "metadata": {},
   "outputs": [],
   "source": [
    "data = pd.read_csv('./data/pokemon.csv')"
   ]
  },
  {
   "cell_type": "code",
   "execution_count": 114,
   "metadata": {},
   "outputs": [
    {
     "data": {
      "text/html": [
       "<div>\n",
       "<style scoped>\n",
       "    .dataframe tbody tr th:only-of-type {\n",
       "        vertical-align: middle;\n",
       "    }\n",
       "\n",
       "    .dataframe tbody tr th {\n",
       "        vertical-align: top;\n",
       "    }\n",
       "\n",
       "    .dataframe thead th {\n",
       "        text-align: right;\n",
       "    }\n",
       "</style>\n",
       "<table border=\"1\" class=\"dataframe\">\n",
       "  <thead>\n",
       "    <tr style=\"text-align: right;\">\n",
       "      <th></th>\n",
       "      <th>abilities</th>\n",
       "      <th>against_bug</th>\n",
       "      <th>against_dark</th>\n",
       "      <th>against_dragon</th>\n",
       "      <th>against_electric</th>\n",
       "      <th>against_fairy</th>\n",
       "      <th>against_fight</th>\n",
       "      <th>against_fire</th>\n",
       "      <th>against_flying</th>\n",
       "      <th>against_ghost</th>\n",
       "      <th>...</th>\n",
       "      <th>percentage_male</th>\n",
       "      <th>pokedex_number</th>\n",
       "      <th>sp_attack</th>\n",
       "      <th>sp_defense</th>\n",
       "      <th>speed</th>\n",
       "      <th>type1</th>\n",
       "      <th>type2</th>\n",
       "      <th>weight_kg</th>\n",
       "      <th>generation</th>\n",
       "      <th>is_legendary</th>\n",
       "    </tr>\n",
       "  </thead>\n",
       "  <tbody>\n",
       "    <tr>\n",
       "      <th>0</th>\n",
       "      <td>['Overgrow', 'Chlorophyll']</td>\n",
       "      <td>1.0</td>\n",
       "      <td>1.0</td>\n",
       "      <td>1.0</td>\n",
       "      <td>0.5</td>\n",
       "      <td>0.5</td>\n",
       "      <td>0.5</td>\n",
       "      <td>2.0</td>\n",
       "      <td>2.0</td>\n",
       "      <td>1.0</td>\n",
       "      <td>...</td>\n",
       "      <td>88.1</td>\n",
       "      <td>1</td>\n",
       "      <td>65</td>\n",
       "      <td>65</td>\n",
       "      <td>45</td>\n",
       "      <td>grass</td>\n",
       "      <td>poison</td>\n",
       "      <td>6.9</td>\n",
       "      <td>1</td>\n",
       "      <td>0</td>\n",
       "    </tr>\n",
       "    <tr>\n",
       "      <th>1</th>\n",
       "      <td>['Overgrow', 'Chlorophyll']</td>\n",
       "      <td>1.0</td>\n",
       "      <td>1.0</td>\n",
       "      <td>1.0</td>\n",
       "      <td>0.5</td>\n",
       "      <td>0.5</td>\n",
       "      <td>0.5</td>\n",
       "      <td>2.0</td>\n",
       "      <td>2.0</td>\n",
       "      <td>1.0</td>\n",
       "      <td>...</td>\n",
       "      <td>88.1</td>\n",
       "      <td>2</td>\n",
       "      <td>80</td>\n",
       "      <td>80</td>\n",
       "      <td>60</td>\n",
       "      <td>grass</td>\n",
       "      <td>poison</td>\n",
       "      <td>13.0</td>\n",
       "      <td>1</td>\n",
       "      <td>0</td>\n",
       "    </tr>\n",
       "    <tr>\n",
       "      <th>2</th>\n",
       "      <td>['Overgrow', 'Chlorophyll']</td>\n",
       "      <td>1.0</td>\n",
       "      <td>1.0</td>\n",
       "      <td>1.0</td>\n",
       "      <td>0.5</td>\n",
       "      <td>0.5</td>\n",
       "      <td>0.5</td>\n",
       "      <td>2.0</td>\n",
       "      <td>2.0</td>\n",
       "      <td>1.0</td>\n",
       "      <td>...</td>\n",
       "      <td>88.1</td>\n",
       "      <td>3</td>\n",
       "      <td>122</td>\n",
       "      <td>120</td>\n",
       "      <td>80</td>\n",
       "      <td>grass</td>\n",
       "      <td>poison</td>\n",
       "      <td>100.0</td>\n",
       "      <td>1</td>\n",
       "      <td>0</td>\n",
       "    </tr>\n",
       "    <tr>\n",
       "      <th>3</th>\n",
       "      <td>['Blaze', 'Solar Power']</td>\n",
       "      <td>0.5</td>\n",
       "      <td>1.0</td>\n",
       "      <td>1.0</td>\n",
       "      <td>1.0</td>\n",
       "      <td>0.5</td>\n",
       "      <td>1.0</td>\n",
       "      <td>0.5</td>\n",
       "      <td>1.0</td>\n",
       "      <td>1.0</td>\n",
       "      <td>...</td>\n",
       "      <td>88.1</td>\n",
       "      <td>4</td>\n",
       "      <td>60</td>\n",
       "      <td>50</td>\n",
       "      <td>65</td>\n",
       "      <td>fire</td>\n",
       "      <td>NaN</td>\n",
       "      <td>8.5</td>\n",
       "      <td>1</td>\n",
       "      <td>0</td>\n",
       "    </tr>\n",
       "    <tr>\n",
       "      <th>4</th>\n",
       "      <td>['Blaze', 'Solar Power']</td>\n",
       "      <td>0.5</td>\n",
       "      <td>1.0</td>\n",
       "      <td>1.0</td>\n",
       "      <td>1.0</td>\n",
       "      <td>0.5</td>\n",
       "      <td>1.0</td>\n",
       "      <td>0.5</td>\n",
       "      <td>1.0</td>\n",
       "      <td>1.0</td>\n",
       "      <td>...</td>\n",
       "      <td>88.1</td>\n",
       "      <td>5</td>\n",
       "      <td>80</td>\n",
       "      <td>65</td>\n",
       "      <td>80</td>\n",
       "      <td>fire</td>\n",
       "      <td>NaN</td>\n",
       "      <td>19.0</td>\n",
       "      <td>1</td>\n",
       "      <td>0</td>\n",
       "    </tr>\n",
       "  </tbody>\n",
       "</table>\n",
       "<p>5 rows × 41 columns</p>\n",
       "</div>"
      ],
      "text/plain": [
       "                     abilities  against_bug  against_dark  against_dragon  \\\n",
       "0  ['Overgrow', 'Chlorophyll']          1.0           1.0             1.0   \n",
       "1  ['Overgrow', 'Chlorophyll']          1.0           1.0             1.0   \n",
       "2  ['Overgrow', 'Chlorophyll']          1.0           1.0             1.0   \n",
       "3     ['Blaze', 'Solar Power']          0.5           1.0             1.0   \n",
       "4     ['Blaze', 'Solar Power']          0.5           1.0             1.0   \n",
       "\n",
       "   against_electric  against_fairy  against_fight  against_fire  \\\n",
       "0               0.5            0.5            0.5           2.0   \n",
       "1               0.5            0.5            0.5           2.0   \n",
       "2               0.5            0.5            0.5           2.0   \n",
       "3               1.0            0.5            1.0           0.5   \n",
       "4               1.0            0.5            1.0           0.5   \n",
       "\n",
       "   against_flying  against_ghost  ...  percentage_male  pokedex_number  \\\n",
       "0             2.0            1.0  ...             88.1               1   \n",
       "1             2.0            1.0  ...             88.1               2   \n",
       "2             2.0            1.0  ...             88.1               3   \n",
       "3             1.0            1.0  ...             88.1               4   \n",
       "4             1.0            1.0  ...             88.1               5   \n",
       "\n",
       "   sp_attack  sp_defense  speed  type1   type2  weight_kg  generation  \\\n",
       "0         65          65     45  grass  poison        6.9           1   \n",
       "1         80          80     60  grass  poison       13.0           1   \n",
       "2        122         120     80  grass  poison      100.0           1   \n",
       "3         60          50     65   fire     NaN        8.5           1   \n",
       "4         80          65     80   fire     NaN       19.0           1   \n",
       "\n",
       "   is_legendary  \n",
       "0             0  \n",
       "1             0  \n",
       "2             0  \n",
       "3             0  \n",
       "4             0  \n",
       "\n",
       "[5 rows x 41 columns]"
      ]
     },
     "execution_count": 114,
     "metadata": {},
     "output_type": "execute_result"
    }
   ],
   "source": [
    "data.head()"
   ]
  },
  {
   "cell_type": "code",
   "execution_count": 115,
   "metadata": {},
   "outputs": [
    {
     "data": {
      "text/plain": [
       "Index(['abilities', 'against_bug', 'against_dark', 'against_dragon',\n",
       "       'against_electric', 'against_fairy', 'against_fight', 'against_fire',\n",
       "       'against_flying', 'against_ghost', 'against_grass', 'against_ground',\n",
       "       'against_ice', 'against_normal', 'against_poison', 'against_psychic',\n",
       "       'against_rock', 'against_steel', 'against_water', 'attack',\n",
       "       'base_egg_steps', 'base_happiness', 'base_total', 'capture_rate',\n",
       "       'classfication', 'defense', 'experience_growth', 'height_m', 'hp',\n",
       "       'japanese_name', 'name', 'percentage_male', 'pokedex_number',\n",
       "       'sp_attack', 'sp_defense', 'speed', 'type1', 'type2', 'weight_kg',\n",
       "       'generation', 'is_legendary'],\n",
       "      dtype='object')"
      ]
     },
     "execution_count": 115,
     "metadata": {},
     "output_type": "execute_result"
    }
   ],
   "source": [
    "data.columns"
   ]
  },
  {
   "cell_type": "code",
   "execution_count": 116,
   "metadata": {},
   "outputs": [],
   "source": [
    "data = data[['name','type1', 'type2','hp','attack', 'defense','sp_attack', 'sp_defense', 'speed','is_legendary']]"
   ]
  },
  {
   "cell_type": "code",
   "execution_count": 117,
   "metadata": {},
   "outputs": [
    {
     "name": "stdout",
     "output_type": "stream",
     "text": [
      "<class 'pandas.core.frame.DataFrame'>\n",
      "RangeIndex: 801 entries, 0 to 800\n",
      "Data columns (total 10 columns):\n",
      " #   Column        Non-Null Count  Dtype \n",
      "---  ------        --------------  ----- \n",
      " 0   name          801 non-null    object\n",
      " 1   type1         801 non-null    object\n",
      " 2   type2         417 non-null    object\n",
      " 3   hp            801 non-null    int64 \n",
      " 4   attack        801 non-null    int64 \n",
      " 5   defense       801 non-null    int64 \n",
      " 6   sp_attack     801 non-null    int64 \n",
      " 7   sp_defense    801 non-null    int64 \n",
      " 8   speed         801 non-null    int64 \n",
      " 9   is_legendary  801 non-null    int64 \n",
      "dtypes: int64(7), object(3)\n",
      "memory usage: 62.7+ KB\n"
     ]
    }
   ],
   "source": [
    "data.info()"
   ]
  },
  {
   "cell_type": "code",
   "execution_count": 118,
   "metadata": {},
   "outputs": [
    {
     "data": {
      "text/html": [
       "<div>\n",
       "<style scoped>\n",
       "    .dataframe tbody tr th:only-of-type {\n",
       "        vertical-align: middle;\n",
       "    }\n",
       "\n",
       "    .dataframe tbody tr th {\n",
       "        vertical-align: top;\n",
       "    }\n",
       "\n",
       "    .dataframe thead th {\n",
       "        text-align: right;\n",
       "    }\n",
       "</style>\n",
       "<table border=\"1\" class=\"dataframe\">\n",
       "  <thead>\n",
       "    <tr style=\"text-align: right;\">\n",
       "      <th></th>\n",
       "      <th>name</th>\n",
       "      <th>type1</th>\n",
       "      <th>type2</th>\n",
       "      <th>hp</th>\n",
       "      <th>attack</th>\n",
       "      <th>defense</th>\n",
       "      <th>sp_attack</th>\n",
       "      <th>sp_defense</th>\n",
       "      <th>speed</th>\n",
       "      <th>is_legendary</th>\n",
       "    </tr>\n",
       "  </thead>\n",
       "  <tbody>\n",
       "    <tr>\n",
       "      <th>0</th>\n",
       "      <td>Bulbasaur</td>\n",
       "      <td>grass</td>\n",
       "      <td>poison</td>\n",
       "      <td>45</td>\n",
       "      <td>49</td>\n",
       "      <td>49</td>\n",
       "      <td>65</td>\n",
       "      <td>65</td>\n",
       "      <td>45</td>\n",
       "      <td>0</td>\n",
       "    </tr>\n",
       "    <tr>\n",
       "      <th>1</th>\n",
       "      <td>Ivysaur</td>\n",
       "      <td>grass</td>\n",
       "      <td>poison</td>\n",
       "      <td>60</td>\n",
       "      <td>62</td>\n",
       "      <td>63</td>\n",
       "      <td>80</td>\n",
       "      <td>80</td>\n",
       "      <td>60</td>\n",
       "      <td>0</td>\n",
       "    </tr>\n",
       "    <tr>\n",
       "      <th>2</th>\n",
       "      <td>Venusaur</td>\n",
       "      <td>grass</td>\n",
       "      <td>poison</td>\n",
       "      <td>80</td>\n",
       "      <td>100</td>\n",
       "      <td>123</td>\n",
       "      <td>122</td>\n",
       "      <td>120</td>\n",
       "      <td>80</td>\n",
       "      <td>0</td>\n",
       "    </tr>\n",
       "    <tr>\n",
       "      <th>3</th>\n",
       "      <td>Charmander</td>\n",
       "      <td>fire</td>\n",
       "      <td>NaN</td>\n",
       "      <td>39</td>\n",
       "      <td>52</td>\n",
       "      <td>43</td>\n",
       "      <td>60</td>\n",
       "      <td>50</td>\n",
       "      <td>65</td>\n",
       "      <td>0</td>\n",
       "    </tr>\n",
       "    <tr>\n",
       "      <th>4</th>\n",
       "      <td>Charmeleon</td>\n",
       "      <td>fire</td>\n",
       "      <td>NaN</td>\n",
       "      <td>58</td>\n",
       "      <td>64</td>\n",
       "      <td>58</td>\n",
       "      <td>80</td>\n",
       "      <td>65</td>\n",
       "      <td>80</td>\n",
       "      <td>0</td>\n",
       "    </tr>\n",
       "    <tr>\n",
       "      <th>...</th>\n",
       "      <td>...</td>\n",
       "      <td>...</td>\n",
       "      <td>...</td>\n",
       "      <td>...</td>\n",
       "      <td>...</td>\n",
       "      <td>...</td>\n",
       "      <td>...</td>\n",
       "      <td>...</td>\n",
       "      <td>...</td>\n",
       "      <td>...</td>\n",
       "    </tr>\n",
       "    <tr>\n",
       "      <th>796</th>\n",
       "      <td>Celesteela</td>\n",
       "      <td>steel</td>\n",
       "      <td>flying</td>\n",
       "      <td>97</td>\n",
       "      <td>101</td>\n",
       "      <td>103</td>\n",
       "      <td>107</td>\n",
       "      <td>101</td>\n",
       "      <td>61</td>\n",
       "      <td>1</td>\n",
       "    </tr>\n",
       "    <tr>\n",
       "      <th>797</th>\n",
       "      <td>Kartana</td>\n",
       "      <td>grass</td>\n",
       "      <td>steel</td>\n",
       "      <td>59</td>\n",
       "      <td>181</td>\n",
       "      <td>131</td>\n",
       "      <td>59</td>\n",
       "      <td>31</td>\n",
       "      <td>109</td>\n",
       "      <td>1</td>\n",
       "    </tr>\n",
       "    <tr>\n",
       "      <th>798</th>\n",
       "      <td>Guzzlord</td>\n",
       "      <td>dark</td>\n",
       "      <td>dragon</td>\n",
       "      <td>223</td>\n",
       "      <td>101</td>\n",
       "      <td>53</td>\n",
       "      <td>97</td>\n",
       "      <td>53</td>\n",
       "      <td>43</td>\n",
       "      <td>1</td>\n",
       "    </tr>\n",
       "    <tr>\n",
       "      <th>799</th>\n",
       "      <td>Necrozma</td>\n",
       "      <td>psychic</td>\n",
       "      <td>NaN</td>\n",
       "      <td>97</td>\n",
       "      <td>107</td>\n",
       "      <td>101</td>\n",
       "      <td>127</td>\n",
       "      <td>89</td>\n",
       "      <td>79</td>\n",
       "      <td>1</td>\n",
       "    </tr>\n",
       "    <tr>\n",
       "      <th>800</th>\n",
       "      <td>Magearna</td>\n",
       "      <td>steel</td>\n",
       "      <td>fairy</td>\n",
       "      <td>80</td>\n",
       "      <td>95</td>\n",
       "      <td>115</td>\n",
       "      <td>130</td>\n",
       "      <td>115</td>\n",
       "      <td>65</td>\n",
       "      <td>1</td>\n",
       "    </tr>\n",
       "  </tbody>\n",
       "</table>\n",
       "<p>801 rows × 10 columns</p>\n",
       "</div>"
      ],
      "text/plain": [
       "           name    type1   type2   hp  attack  defense  sp_attack  sp_defense  \\\n",
       "0     Bulbasaur    grass  poison   45      49       49         65          65   \n",
       "1       Ivysaur    grass  poison   60      62       63         80          80   \n",
       "2      Venusaur    grass  poison   80     100      123        122         120   \n",
       "3    Charmander     fire     NaN   39      52       43         60          50   \n",
       "4    Charmeleon     fire     NaN   58      64       58         80          65   \n",
       "..          ...      ...     ...  ...     ...      ...        ...         ...   \n",
       "796  Celesteela    steel  flying   97     101      103        107         101   \n",
       "797     Kartana    grass   steel   59     181      131         59          31   \n",
       "798    Guzzlord     dark  dragon  223     101       53         97          53   \n",
       "799    Necrozma  psychic     NaN   97     107      101        127          89   \n",
       "800    Magearna    steel   fairy   80      95      115        130         115   \n",
       "\n",
       "     speed  is_legendary  \n",
       "0       45             0  \n",
       "1       60             0  \n",
       "2       80             0  \n",
       "3       65             0  \n",
       "4       80             0  \n",
       "..     ...           ...  \n",
       "796     61             1  \n",
       "797    109             1  \n",
       "798     43             1  \n",
       "799     79             1  \n",
       "800     65             1  \n",
       "\n",
       "[801 rows x 10 columns]"
      ]
     },
     "execution_count": 118,
     "metadata": {},
     "output_type": "execute_result"
    }
   ],
   "source": [
    "data"
   ]
  },
  {
   "cell_type": "code",
   "execution_count": 119,
   "metadata": {},
   "outputs": [
    {
     "data": {
      "text/plain": [
       "name              0\n",
       "type1             0\n",
       "type2           384\n",
       "hp                0\n",
       "attack            0\n",
       "defense           0\n",
       "sp_attack         0\n",
       "sp_defense        0\n",
       "speed             0\n",
       "is_legendary      0\n",
       "dtype: int64"
      ]
     },
     "execution_count": 119,
     "metadata": {},
     "output_type": "execute_result"
    }
   ],
   "source": [
    "#Cantidad de Nulos por Columna\n",
    "data.isna().sum()"
   ]
  },
  {
   "cell_type": "code",
   "execution_count": 120,
   "metadata": {},
   "outputs": [],
   "source": [
    "data['type2'].fillna('Sin Dato', inplace=True)"
   ]
  },
  {
   "cell_type": "code",
   "execution_count": 121,
   "metadata": {},
   "outputs": [
    {
     "data": {
      "text/plain": [
       "pandas.core.series.Series"
      ]
     },
     "execution_count": 121,
     "metadata": {},
     "output_type": "execute_result"
    }
   ],
   "source": [
    "type(data.name)"
   ]
  },
  {
   "cell_type": "code",
   "execution_count": 122,
   "metadata": {},
   "outputs": [
    {
     "data": {
      "text/plain": [
       "0"
      ]
     },
     "execution_count": 122,
     "metadata": {},
     "output_type": "execute_result"
    }
   ],
   "source": [
    "\n",
    "data[data.duplicated(keep=False)].size"
   ]
  },
  {
   "cell_type": "code",
   "execution_count": 123,
   "metadata": {},
   "outputs": [],
   "source": [
    "%matplotlib inline"
   ]
  },
  {
   "cell_type": "code",
   "execution_count": 124,
   "metadata": {},
   "outputs": [
    {
     "data": {
      "text/plain": [
       "<Axes: >"
      ]
     },
     "execution_count": 124,
     "metadata": {},
     "output_type": "execute_result"
    },
    {
     "data": {
      "image/png": "[encoded data removed]",
      "text/plain": [
       "<Figure size 640x480 with 1 Axes>"
      ]
     },
     "metadata": {},
     "output_type": "display_data"
    }
   ],
   "source": [
    "data['attack'].hist()"
   ]
  },
  {
   "cell_type": "markdown",
   "metadata": {},
   "source": [
    "Se puede reconocer que la mayoría de valores de Attack estan concentrados en el rango de 50 - 100\n"
   ]
  },
  {
   "cell_type": "code",
   "execution_count": 125,
   "metadata": {},
   "outputs": [
    {
     "data": {
      "text/html": [
       "<div>\n",
       "<style scoped>\n",
       "    .dataframe tbody tr th:only-of-type {\n",
       "        vertical-align: middle;\n",
       "    }\n",
       "\n",
       "    .dataframe tbody tr th {\n",
       "        vertical-align: top;\n",
       "    }\n",
       "\n",
       "    .dataframe thead th {\n",
       "        text-align: right;\n",
       "    }\n",
       "</style>\n",
       "<table border=\"1\" class=\"dataframe\">\n",
       "  <thead>\n",
       "    <tr style=\"text-align: right;\">\n",
       "      <th></th>\n",
       "      <th>hp</th>\n",
       "      <th>attack</th>\n",
       "      <th>defense</th>\n",
       "      <th>sp_attack</th>\n",
       "      <th>sp_defense</th>\n",
       "      <th>speed</th>\n",
       "      <th>is_legendary</th>\n",
       "    </tr>\n",
       "  </thead>\n",
       "  <tbody>\n",
       "    <tr>\n",
       "      <th>count</th>\n",
       "      <td>801.000000</td>\n",
       "      <td>801.000000</td>\n",
       "      <td>801.000000</td>\n",
       "      <td>801.000000</td>\n",
       "      <td>801.000000</td>\n",
       "      <td>801.000000</td>\n",
       "      <td>801.000000</td>\n",
       "    </tr>\n",
       "    <tr>\n",
       "      <th>mean</th>\n",
       "      <td>68.958801</td>\n",
       "      <td>77.857678</td>\n",
       "      <td>73.008739</td>\n",
       "      <td>71.305868</td>\n",
       "      <td>70.911361</td>\n",
       "      <td>66.334582</td>\n",
       "      <td>0.087391</td>\n",
       "    </tr>\n",
       "    <tr>\n",
       "      <th>std</th>\n",
       "      <td>26.576015</td>\n",
       "      <td>32.158820</td>\n",
       "      <td>30.769159</td>\n",
       "      <td>32.353826</td>\n",
       "      <td>27.942501</td>\n",
       "      <td>28.907662</td>\n",
       "      <td>0.282583</td>\n",
       "    </tr>\n",
       "    <tr>\n",
       "      <th>min</th>\n",
       "      <td>1.000000</td>\n",
       "      <td>5.000000</td>\n",
       "      <td>5.000000</td>\n",
       "      <td>10.000000</td>\n",
       "      <td>20.000000</td>\n",
       "      <td>5.000000</td>\n",
       "      <td>0.000000</td>\n",
       "    </tr>\n",
       "    <tr>\n",
       "      <th>25%</th>\n",
       "      <td>50.000000</td>\n",
       "      <td>55.000000</td>\n",
       "      <td>50.000000</td>\n",
       "      <td>45.000000</td>\n",
       "      <td>50.000000</td>\n",
       "      <td>45.000000</td>\n",
       "      <td>0.000000</td>\n",
       "    </tr>\n",
       "    <tr>\n",
       "      <th>50%</th>\n",
       "      <td>65.000000</td>\n",
       "      <td>75.000000</td>\n",
       "      <td>70.000000</td>\n",
       "      <td>65.000000</td>\n",
       "      <td>66.000000</td>\n",
       "      <td>65.000000</td>\n",
       "      <td>0.000000</td>\n",
       "    </tr>\n",
       "    <tr>\n",
       "      <th>75%</th>\n",
       "      <td>80.000000</td>\n",
       "      <td>100.000000</td>\n",
       "      <td>90.000000</td>\n",
       "      <td>91.000000</td>\n",
       "      <td>90.000000</td>\n",
       "      <td>85.000000</td>\n",
       "      <td>0.000000</td>\n",
       "    </tr>\n",
       "    <tr>\n",
       "      <th>max</th>\n",
       "      <td>255.000000</td>\n",
       "      <td>185.000000</td>\n",
       "      <td>230.000000</td>\n",
       "      <td>194.000000</td>\n",
       "      <td>230.000000</td>\n",
       "      <td>180.000000</td>\n",
       "      <td>1.000000</td>\n",
       "    </tr>\n",
       "  </tbody>\n",
       "</table>\n",
       "</div>"
      ],
      "text/plain": [
       "               hp      attack     defense   sp_attack  sp_defense       speed  \\\n",
       "count  801.000000  801.000000  801.000000  801.000000  801.000000  801.000000   \n",
       "mean    68.958801   77.857678   73.008739   71.305868   70.911361   66.334582   \n",
       "std     26.576015   32.158820   30.769159   32.353826   27.942501   28.907662   \n",
       "min      1.000000    5.000000    5.000000   10.000000   20.000000    5.000000   \n",
       "25%     50.000000   55.000000   50.000000   45.000000   50.000000   45.000000   \n",
       "50%     65.000000   75.000000   70.000000   65.000000   66.000000   65.000000   \n",
       "75%     80.000000  100.000000   90.000000   91.000000   90.000000   85.000000   \n",
       "max    255.000000  185.000000  230.000000  194.000000  230.000000  180.000000   \n",
       "\n",
       "       is_legendary  \n",
       "count    801.000000  \n",
       "mean       0.087391  \n",
       "std        0.282583  \n",
       "min        0.000000  \n",
       "25%        0.000000  \n",
       "50%        0.000000  \n",
       "75%        0.000000  \n",
       "max        1.000000  "
      ]
     },
     "execution_count": 125,
     "metadata": {},
     "output_type": "execute_result"
    }
   ],
   "source": [
    "data.describe()"
   ]
  },
  {
   "cell_type": "markdown",
   "metadata": {},
   "source": [
    "### Total Promedio de cada Pokemon"
   ]
  },
  {
   "cell_type": "code",
   "execution_count": 126,
   "metadata": {},
   "outputs": [
    {
     "data": {
      "text/plain": [
       "type1\n",
       "dragon      106.407407\n",
       "fighting     99.178571\n",
       "ground       94.812500\n",
       "steel        93.083333\n",
       "rock         90.666667\n",
       "dark         87.793103\n",
       "fire         81.500000\n",
       "normal       75.161905\n",
       "grass        73.769231\n",
       "water        73.307018\n",
       "ice          73.304348\n",
       "ghost        72.740741\n",
       "poison       72.656250\n",
       "electric     70.820513\n",
       "bug          70.125000\n",
       "flying       66.666667\n",
       "psychic      65.566038\n",
       "fairy        62.111111\n",
       "Name: attack, dtype: float64"
      ]
     },
     "execution_count": 126,
     "metadata": {},
     "output_type": "execute_result"
    }
   ],
   "source": [
    "data.groupby('type1')['attack'].mean().sort_values(ascending=False)"
   ]
  },
  {
   "cell_type": "code",
   "execution_count": 127,
   "metadata": {},
   "outputs": [
    {
     "data": {
      "text/plain": [
       "type2\n",
       "fighting    107.960000\n",
       "steel        97.454545\n",
       "dark         95.904762\n",
       "ghost        95.571429\n",
       "ice          88.666667\n",
       "dragon       88.470588\n",
       "rock         86.857143\n",
       "ground       86.058824\n",
       "flying       78.389474\n",
       "grass        78.250000\n",
       "psychic      76.586207\n",
       "bug          76.000000\n",
       "electric     74.777778\n",
       "Sin Dato     74.231771\n",
       "water        70.176471\n",
       "poison       67.617647\n",
       "fire         66.000000\n",
       "fairy        63.482759\n",
       "normal       52.750000\n",
       "Name: attack, dtype: float64"
      ]
     },
     "execution_count": 127,
     "metadata": {},
     "output_type": "execute_result"
    }
   ],
   "source": [
    "data.groupby('type2')['attack'].mean().sort_values(ascending=False)"
   ]
  },
  {
   "cell_type": "markdown",
   "metadata": {},
   "source": [
    "### Attack máximo de cada combinación de Type1 y Type2"
   ]
  },
  {
   "cell_type": "code",
   "execution_count": 128,
   "metadata": {},
   "outputs": [
    {
     "data": {
      "text/plain": [
       "type1   type2   \n",
       "bug     fighting    185\n",
       "grass   steel       181\n",
       "dragon  flying      180\n",
       "ground  Sin Dato    180\n",
       "dragon  ground      170\n",
       "                   ... \n",
       "fairy   flying       50\n",
       "fire    rock         50\n",
       "ice     psychic      50\n",
       "bug     ground       45\n",
       "fire    fire         30\n",
       "Name: attack, Length: 166, dtype: int64"
      ]
     },
     "execution_count": 128,
     "metadata": {},
     "output_type": "execute_result"
    }
   ],
   "source": [
    "data.groupby(['type1','type2'])['attack'].max().sort_values(ascending=False)"
   ]
  },
  {
   "cell_type": "code",
   "execution_count": 129,
   "metadata": {},
   "outputs": [
    {
     "data": {
      "text/plain": [
       "<seaborn.axisgrid.JointGrid at 0x21407d8a050>"
      ]
     },
     "execution_count": 129,
     "metadata": {},
     "output_type": "execute_result"
    },
    {
     "data": {
      "image/png": "[encoded data removed]",
      "text/plain": [
       "<Figure size 600x600 with 3 Axes>"
      ]
     },
     "metadata": {},
     "output_type": "display_data"
    }
   ],
   "source": [
    "sns.jointplot(x='sp_attack' , y= 'sp_defense', data=data , kind='reg' )"
   ]
  },
  {
   "cell_type": "markdown",
   "metadata": {},
   "source": [
    "Reg = representa la regresión Lineal entre 2 variables (x, y) "
   ]
  },
  {
   "cell_type": "code",
   "execution_count": 130,
   "metadata": {},
   "outputs": [],
   "source": [
    "data = data[['type1', 'type2','hp','attack', 'defense','sp_attack', 'sp_defense', 'speed','is_legendary']]"
   ]
  },
  {
   "cell_type": "code",
   "execution_count": 131,
   "metadata": {},
   "outputs": [
    {
     "data": {
      "image/png": "[encoded data removed]",
      "text/plain": [
       "<Figure size 640x480 with 1 Axes>"
      ]
     },
     "metadata": {},
     "output_type": "display_data"
    }
   ],
   "source": [
    "sns.boxplot(data=data)\n",
    "plt.show()"
   ]
  },
  {
   "cell_type": "markdown",
   "metadata": {},
   "source": [
    "Sobre la columna 'Attack' podemos decir que el 75% de los valores son menores a 100 y el 25% de los valores son menos de 60 "
   ]
  }
 ],
 "metadata": {
  "kernelspec": {
   "display_name": "myenv",
   "language": "python",
   "name": "python3"
  },
  "language_info": {
   "codemirror_mode": {
    "name": "ipython",
    "version": 3
   },
   "file_extension": ".py",
   "mimetype": "text/x-python",
   "name": "python",
   "nbconvert_exporter": "python",
   "pygments_lexer": "ipython3",
   "version": "3.11.4"
  },
  "orig_nbformat": 4
 },
 "nbformat": 4,
 "nbformat_minor": 2
}
