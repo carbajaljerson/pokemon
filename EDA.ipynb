{
 "cells": [
  {
   "cell_type": "code",
   "execution_count": 1732,
   "metadata": {},
   "outputs": [],
   "source": [
    "import pandas as pd\n",
    "import matplotlib.pyplot as plt\n",
    "import seaborn as sns\n",
    "import numpy as np\n",
    "import warnings\n",
    "warnings.filterwarnings('ignore')"
   ]
  },
  {
   "cell_type": "code",
   "execution_count": 1733,
   "metadata": {},
   "outputs": [],
   "source": [
    "data = pd.read_csv('./data/pokemon.csv')"
   ]
  },
  {
   "cell_type": "code",
   "execution_count": 1734,
   "metadata": {},
   "outputs": [
    {
     "data": {
      "text/html": [
       "<div>\n",
       "<style scoped>\n",
       "    .dataframe tbody tr th:only-of-type {\n",
       "        vertical-align: middle;\n",
       "    }\n",
       "\n",
       "    .dataframe tbody tr th {\n",
       "        vertical-align: top;\n",
       "    }\n",
       "\n",
       "    .dataframe thead th {\n",
       "        text-align: right;\n",
       "    }\n",
       "</style>\n",
       "<table border=\"1\" class=\"dataframe\">\n",
       "  <thead>\n",
       "    <tr style=\"text-align: right;\">\n",
       "      <th></th>\n",
       "      <th>abilities</th>\n",
       "      <th>against_bug</th>\n",
       "      <th>against_dark</th>\n",
       "      <th>against_dragon</th>\n",
       "      <th>against_electric</th>\n",
       "      <th>against_fairy</th>\n",
       "      <th>against_fight</th>\n",
       "      <th>against_fire</th>\n",
       "      <th>against_flying</th>\n",
       "      <th>against_ghost</th>\n",
       "      <th>...</th>\n",
       "      <th>percentage_male</th>\n",
       "      <th>pokedex_number</th>\n",
       "      <th>sp_attack</th>\n",
       "      <th>sp_defense</th>\n",
       "      <th>speed</th>\n",
       "      <th>type1</th>\n",
       "      <th>type2</th>\n",
       "      <th>weight_kg</th>\n",
       "      <th>generation</th>\n",
       "      <th>is_legendary</th>\n",
       "    </tr>\n",
       "  </thead>\n",
       "  <tbody>\n",
       "    <tr>\n",
       "      <th>0</th>\n",
       "      <td>['Overgrow', 'Chlorophyll']</td>\n",
       "      <td>1.0</td>\n",
       "      <td>1.0</td>\n",
       "      <td>1.0</td>\n",
       "      <td>0.5</td>\n",
       "      <td>0.5</td>\n",
       "      <td>0.5</td>\n",
       "      <td>2.0</td>\n",
       "      <td>2.0</td>\n",
       "      <td>1.0</td>\n",
       "      <td>...</td>\n",
       "      <td>88.1</td>\n",
       "      <td>1</td>\n",
       "      <td>65</td>\n",
       "      <td>65</td>\n",
       "      <td>45</td>\n",
       "      <td>grass</td>\n",
       "      <td>poison</td>\n",
       "      <td>6.9</td>\n",
       "      <td>1</td>\n",
       "      <td>0</td>\n",
       "    </tr>\n",
       "    <tr>\n",
       "      <th>1</th>\n",
       "      <td>['Overgrow', 'Chlorophyll']</td>\n",
       "      <td>1.0</td>\n",
       "      <td>1.0</td>\n",
       "      <td>1.0</td>\n",
       "      <td>0.5</td>\n",
       "      <td>0.5</td>\n",
       "      <td>0.5</td>\n",
       "      <td>2.0</td>\n",
       "      <td>2.0</td>\n",
       "      <td>1.0</td>\n",
       "      <td>...</td>\n",
       "      <td>88.1</td>\n",
       "      <td>2</td>\n",
       "      <td>80</td>\n",
       "      <td>80</td>\n",
       "      <td>60</td>\n",
       "      <td>grass</td>\n",
       "      <td>poison</td>\n",
       "      <td>13.0</td>\n",
       "      <td>1</td>\n",
       "      <td>0</td>\n",
       "    </tr>\n",
       "    <tr>\n",
       "      <th>2</th>\n",
       "      <td>['Overgrow', 'Chlorophyll']</td>\n",
       "      <td>1.0</td>\n",
       "      <td>1.0</td>\n",
       "      <td>1.0</td>\n",
       "      <td>0.5</td>\n",
       "      <td>0.5</td>\n",
       "      <td>0.5</td>\n",
       "      <td>2.0</td>\n",
       "      <td>2.0</td>\n",
       "      <td>1.0</td>\n",
       "      <td>...</td>\n",
       "      <td>88.1</td>\n",
       "      <td>3</td>\n",
       "      <td>122</td>\n",
       "      <td>120</td>\n",
       "      <td>80</td>\n",
       "      <td>grass</td>\n",
       "      <td>poison</td>\n",
       "      <td>100.0</td>\n",
       "      <td>1</td>\n",
       "      <td>0</td>\n",
       "    </tr>\n",
       "    <tr>\n",
       "      <th>3</th>\n",
       "      <td>['Blaze', 'Solar Power']</td>\n",
       "      <td>0.5</td>\n",
       "      <td>1.0</td>\n",
       "      <td>1.0</td>\n",
       "      <td>1.0</td>\n",
       "      <td>0.5</td>\n",
       "      <td>1.0</td>\n",
       "      <td>0.5</td>\n",
       "      <td>1.0</td>\n",
       "      <td>1.0</td>\n",
       "      <td>...</td>\n",
       "      <td>88.1</td>\n",
       "      <td>4</td>\n",
       "      <td>60</td>\n",
       "      <td>50</td>\n",
       "      <td>65</td>\n",
       "      <td>fire</td>\n",
       "      <td>NaN</td>\n",
       "      <td>8.5</td>\n",
       "      <td>1</td>\n",
       "      <td>0</td>\n",
       "    </tr>\n",
       "    <tr>\n",
       "      <th>4</th>\n",
       "      <td>['Blaze', 'Solar Power']</td>\n",
       "      <td>0.5</td>\n",
       "      <td>1.0</td>\n",
       "      <td>1.0</td>\n",
       "      <td>1.0</td>\n",
       "      <td>0.5</td>\n",
       "      <td>1.0</td>\n",
       "      <td>0.5</td>\n",
       "      <td>1.0</td>\n",
       "      <td>1.0</td>\n",
       "      <td>...</td>\n",
       "      <td>88.1</td>\n",
       "      <td>5</td>\n",
       "      <td>80</td>\n",
       "      <td>65</td>\n",
       "      <td>80</td>\n",
       "      <td>fire</td>\n",
       "      <td>NaN</td>\n",
       "      <td>19.0</td>\n",
       "      <td>1</td>\n",
       "      <td>0</td>\n",
       "    </tr>\n",
       "  </tbody>\n",
       "</table>\n",
       "<p>5 rows × 41 columns</p>\n",
       "</div>"
      ],
      "text/plain": [
       "                     abilities  against_bug  against_dark  against_dragon  \\\n",
       "0  ['Overgrow', 'Chlorophyll']          1.0           1.0             1.0   \n",
       "1  ['Overgrow', 'Chlorophyll']          1.0           1.0             1.0   \n",
       "2  ['Overgrow', 'Chlorophyll']          1.0           1.0             1.0   \n",
       "3     ['Blaze', 'Solar Power']          0.5           1.0             1.0   \n",
       "4     ['Blaze', 'Solar Power']          0.5           1.0             1.0   \n",
       "\n",
       "   against_electric  against_fairy  against_fight  against_fire  \\\n",
       "0               0.5            0.5            0.5           2.0   \n",
       "1               0.5            0.5            0.5           2.0   \n",
       "2               0.5            0.5            0.5           2.0   \n",
       "3               1.0            0.5            1.0           0.5   \n",
       "4               1.0            0.5            1.0           0.5   \n",
       "\n",
       "   against_flying  against_ghost  ...  percentage_male  pokedex_number  \\\n",
       "0             2.0            1.0  ...             88.1               1   \n",
       "1             2.0            1.0  ...             88.1               2   \n",
       "2             2.0            1.0  ...             88.1               3   \n",
       "3             1.0            1.0  ...             88.1               4   \n",
       "4             1.0            1.0  ...             88.1               5   \n",
       "\n",
       "   sp_attack  sp_defense  speed  type1   type2  weight_kg  generation  \\\n",
       "0         65          65     45  grass  poison        6.9           1   \n",
       "1         80          80     60  grass  poison       13.0           1   \n",
       "2        122         120     80  grass  poison      100.0           1   \n",
       "3         60          50     65   fire     NaN        8.5           1   \n",
       "4         80          65     80   fire     NaN       19.0           1   \n",
       "\n",
       "   is_legendary  \n",
       "0             0  \n",
       "1             0  \n",
       "2             0  \n",
       "3             0  \n",
       "4             0  \n",
       "\n",
       "[5 rows x 41 columns]"
      ]
     },
     "execution_count": 1734,
     "metadata": {},
     "output_type": "execute_result"
    }
   ],
   "source": [
    "data.head()"
   ]
  },
  {
   "cell_type": "code",
   "execution_count": 1735,
   "metadata": {},
   "outputs": [
    {
     "data": {
      "text/plain": [
       "abilities              0\n",
       "against_bug            0\n",
       "against_dark           0\n",
       "against_dragon         0\n",
       "against_electric       0\n",
       "against_fairy          0\n",
       "against_fight          0\n",
       "against_fire           0\n",
       "against_flying         0\n",
       "against_ghost          0\n",
       "against_grass          0\n",
       "against_ground         0\n",
       "against_ice            0\n",
       "against_normal         0\n",
       "against_poison         0\n",
       "against_psychic        0\n",
       "against_rock           0\n",
       "against_steel          0\n",
       "against_water          0\n",
       "attack                 0\n",
       "base_egg_steps         0\n",
       "base_happiness         0\n",
       "base_total             0\n",
       "capture_rate           0\n",
       "classfication          0\n",
       "defense                0\n",
       "experience_growth      0\n",
       "height_m              20\n",
       "hp                     0\n",
       "japanese_name          0\n",
       "name                   0\n",
       "percentage_male       98\n",
       "pokedex_number         0\n",
       "sp_attack              0\n",
       "sp_defense             0\n",
       "speed                  0\n",
       "type1                  0\n",
       "type2                384\n",
       "weight_kg             20\n",
       "generation             0\n",
       "is_legendary           0\n",
       "dtype: int64"
      ]
     },
     "execution_count": 1735,
     "metadata": {},
     "output_type": "execute_result"
    }
   ],
   "source": [
    "#Cantidad de Nulos por Columna\n",
    "data.isna().sum()"
   ]
  },
  {
   "cell_type": "code",
   "execution_count": 1736,
   "metadata": {},
   "outputs": [
    {
     "data": {
      "text/plain": [
       "801"
      ]
     },
     "execution_count": 1736,
     "metadata": {},
     "output_type": "execute_result"
    }
   ],
   "source": [
    "data.name.nunique()"
   ]
  },
  {
   "cell_type": "code",
   "execution_count": 1737,
   "metadata": {},
   "outputs": [
    {
     "name": "stdout",
     "output_type": "stream",
     "text": [
      "<class 'pandas.core.frame.DataFrame'>\n",
      "RangeIndex: 801 entries, 0 to 800\n",
      "Data columns (total 41 columns):\n",
      " #   Column             Non-Null Count  Dtype  \n",
      "---  ------             --------------  -----  \n",
      " 0   abilities          801 non-null    object \n",
      " 1   against_bug        801 non-null    float64\n",
      " 2   against_dark       801 non-null    float64\n",
      " 3   against_dragon     801 non-null    float64\n",
      " 4   against_electric   801 non-null    float64\n",
      " 5   against_fairy      801 non-null    float64\n",
      " 6   against_fight      801 non-null    float64\n",
      " 7   against_fire       801 non-null    float64\n",
      " 8   against_flying     801 non-null    float64\n",
      " 9   against_ghost      801 non-null    float64\n",
      " 10  against_grass      801 non-null    float64\n",
      " 11  against_ground     801 non-null    float64\n",
      " 12  against_ice        801 non-null    float64\n",
      " 13  against_normal     801 non-null    float64\n",
      " 14  against_poison     801 non-null    float64\n",
      " 15  against_psychic    801 non-null    float64\n",
      " 16  against_rock       801 non-null    float64\n",
      " 17  against_steel      801 non-null    float64\n",
      " 18  against_water      801 non-null    float64\n",
      " 19  attack             801 non-null    int64  \n",
      " 20  base_egg_steps     801 non-null    int64  \n",
      " 21  base_happiness     801 non-null    int64  \n",
      " 22  base_total         801 non-null    int64  \n",
      " 23  capture_rate       801 non-null    object \n",
      " 24  classfication      801 non-null    object \n",
      " 25  defense            801 non-null    int64  \n",
      " 26  experience_growth  801 non-null    int64  \n",
      " 27  height_m           781 non-null    float64\n",
      " 28  hp                 801 non-null    int64  \n",
      " 29  japanese_name      801 non-null    object \n",
      " 30  name               801 non-null    object \n",
      " 31  percentage_male    703 non-null    float64\n",
      " 32  pokedex_number     801 non-null    int64  \n",
      " 33  sp_attack          801 non-null    int64  \n",
      " 34  sp_defense         801 non-null    int64  \n",
      " 35  speed              801 non-null    int64  \n",
      " 36  type1              801 non-null    object \n",
      " 37  type2              417 non-null    object \n",
      " 38  weight_kg          781 non-null    float64\n",
      " 39  generation         801 non-null    int64  \n",
      " 40  is_legendary       801 non-null    int64  \n",
      "dtypes: float64(21), int64(13), object(7)\n",
      "memory usage: 256.7+ KB\n"
     ]
    }
   ],
   "source": [
    "data.info()"
   ]
  },
  {
   "cell_type": "code",
   "execution_count": 1738,
   "metadata": {},
   "outputs": [
    {
     "data": {
      "text/plain": [
       "Index(['abilities', 'against_bug', 'against_dark', 'against_dragon',\n",
       "       'against_electric', 'against_fairy', 'against_fight', 'against_fire',\n",
       "       'against_flying', 'against_ghost', 'against_grass', 'against_ground',\n",
       "       'against_ice', 'against_normal', 'against_poison', 'against_psychic',\n",
       "       'against_rock', 'against_steel', 'against_water', 'attack',\n",
       "       'base_egg_steps', 'base_happiness', 'base_total', 'capture_rate',\n",
       "       'classfication', 'defense', 'experience_growth', 'height_m', 'hp',\n",
       "       'japanese_name', 'name', 'percentage_male', 'pokedex_number',\n",
       "       'sp_attack', 'sp_defense', 'speed', 'type1', 'type2', 'weight_kg',\n",
       "       'generation', 'is_legendary'],\n",
       "      dtype='object')"
      ]
     },
     "execution_count": 1738,
     "metadata": {},
     "output_type": "execute_result"
    }
   ],
   "source": [
    "data.columns"
   ]
  },
  {
   "cell_type": "code",
   "execution_count": 1739,
   "metadata": {},
   "outputs": [
    {
     "data": {
      "text/html": [
       "<div>\n",
       "<style scoped>\n",
       "    .dataframe tbody tr th:only-of-type {\n",
       "        vertical-align: middle;\n",
       "    }\n",
       "\n",
       "    .dataframe tbody tr th {\n",
       "        vertical-align: top;\n",
       "    }\n",
       "\n",
       "    .dataframe thead th {\n",
       "        text-align: right;\n",
       "    }\n",
       "</style>\n",
       "<table border=\"1\" class=\"dataframe\">\n",
       "  <thead>\n",
       "    <tr style=\"text-align: right;\">\n",
       "      <th></th>\n",
       "      <th>count</th>\n",
       "      <th>mean</th>\n",
       "      <th>std</th>\n",
       "      <th>min</th>\n",
       "      <th>25%</th>\n",
       "      <th>50%</th>\n",
       "      <th>75%</th>\n",
       "      <th>max</th>\n",
       "    </tr>\n",
       "  </thead>\n",
       "  <tbody>\n",
       "    <tr>\n",
       "      <th>against_bug</th>\n",
       "      <td>801.0</td>\n",
       "      <td>9.962547e-01</td>\n",
       "      <td>0.597248</td>\n",
       "      <td>0.25</td>\n",
       "      <td>0.5</td>\n",
       "      <td>1.0</td>\n",
       "      <td>1.0</td>\n",
       "      <td>4.0</td>\n",
       "    </tr>\n",
       "    <tr>\n",
       "      <th>against_dark</th>\n",
       "      <td>801.0</td>\n",
       "      <td>1.057116e+00</td>\n",
       "      <td>0.438142</td>\n",
       "      <td>0.25</td>\n",
       "      <td>1.0</td>\n",
       "      <td>1.0</td>\n",
       "      <td>1.0</td>\n",
       "      <td>4.0</td>\n",
       "    </tr>\n",
       "    <tr>\n",
       "      <th>against_dragon</th>\n",
       "      <td>801.0</td>\n",
       "      <td>9.687890e-01</td>\n",
       "      <td>0.353058</td>\n",
       "      <td>0.00</td>\n",
       "      <td>1.0</td>\n",
       "      <td>1.0</td>\n",
       "      <td>1.0</td>\n",
       "      <td>2.0</td>\n",
       "    </tr>\n",
       "    <tr>\n",
       "      <th>against_electric</th>\n",
       "      <td>801.0</td>\n",
       "      <td>1.073970e+00</td>\n",
       "      <td>0.654962</td>\n",
       "      <td>0.00</td>\n",
       "      <td>0.5</td>\n",
       "      <td>1.0</td>\n",
       "      <td>1.0</td>\n",
       "      <td>4.0</td>\n",
       "    </tr>\n",
       "    <tr>\n",
       "      <th>against_fairy</th>\n",
       "      <td>801.0</td>\n",
       "      <td>1.068976e+00</td>\n",
       "      <td>0.522167</td>\n",
       "      <td>0.25</td>\n",
       "      <td>1.0</td>\n",
       "      <td>1.0</td>\n",
       "      <td>1.0</td>\n",
       "      <td>4.0</td>\n",
       "    </tr>\n",
       "    <tr>\n",
       "      <th>against_fight</th>\n",
       "      <td>801.0</td>\n",
       "      <td>1.065543e+00</td>\n",
       "      <td>0.717251</td>\n",
       "      <td>0.00</td>\n",
       "      <td>0.5</td>\n",
       "      <td>1.0</td>\n",
       "      <td>1.0</td>\n",
       "      <td>4.0</td>\n",
       "    </tr>\n",
       "    <tr>\n",
       "      <th>against_fire</th>\n",
       "      <td>801.0</td>\n",
       "      <td>1.135456e+00</td>\n",
       "      <td>0.691853</td>\n",
       "      <td>0.25</td>\n",
       "      <td>0.5</td>\n",
       "      <td>1.0</td>\n",
       "      <td>2.0</td>\n",
       "      <td>4.0</td>\n",
       "    </tr>\n",
       "    <tr>\n",
       "      <th>against_flying</th>\n",
       "      <td>801.0</td>\n",
       "      <td>1.192884e+00</td>\n",
       "      <td>0.604488</td>\n",
       "      <td>0.25</td>\n",
       "      <td>1.0</td>\n",
       "      <td>1.0</td>\n",
       "      <td>1.0</td>\n",
       "      <td>4.0</td>\n",
       "    </tr>\n",
       "    <tr>\n",
       "      <th>against_ghost</th>\n",
       "      <td>801.0</td>\n",
       "      <td>9.850187e-01</td>\n",
       "      <td>0.558256</td>\n",
       "      <td>0.00</td>\n",
       "      <td>1.0</td>\n",
       "      <td>1.0</td>\n",
       "      <td>1.0</td>\n",
       "      <td>4.0</td>\n",
       "    </tr>\n",
       "    <tr>\n",
       "      <th>against_grass</th>\n",
       "      <td>801.0</td>\n",
       "      <td>1.034020e+00</td>\n",
       "      <td>0.788896</td>\n",
       "      <td>0.25</td>\n",
       "      <td>0.5</td>\n",
       "      <td>1.0</td>\n",
       "      <td>1.0</td>\n",
       "      <td>4.0</td>\n",
       "    </tr>\n",
       "    <tr>\n",
       "      <th>against_ground</th>\n",
       "      <td>801.0</td>\n",
       "      <td>1.098002e+00</td>\n",
       "      <td>0.738818</td>\n",
       "      <td>0.00</td>\n",
       "      <td>1.0</td>\n",
       "      <td>1.0</td>\n",
       "      <td>1.0</td>\n",
       "      <td>4.0</td>\n",
       "    </tr>\n",
       "    <tr>\n",
       "      <th>against_ice</th>\n",
       "      <td>801.0</td>\n",
       "      <td>1.208177e+00</td>\n",
       "      <td>0.735356</td>\n",
       "      <td>0.25</td>\n",
       "      <td>0.5</td>\n",
       "      <td>1.0</td>\n",
       "      <td>2.0</td>\n",
       "      <td>4.0</td>\n",
       "    </tr>\n",
       "    <tr>\n",
       "      <th>against_normal</th>\n",
       "      <td>801.0</td>\n",
       "      <td>8.870162e-01</td>\n",
       "      <td>0.266106</td>\n",
       "      <td>0.00</td>\n",
       "      <td>1.0</td>\n",
       "      <td>1.0</td>\n",
       "      <td>1.0</td>\n",
       "      <td>1.0</td>\n",
       "    </tr>\n",
       "    <tr>\n",
       "      <th>against_poison</th>\n",
       "      <td>801.0</td>\n",
       "      <td>9.753433e-01</td>\n",
       "      <td>0.549375</td>\n",
       "      <td>0.00</td>\n",
       "      <td>0.5</td>\n",
       "      <td>1.0</td>\n",
       "      <td>1.0</td>\n",
       "      <td>4.0</td>\n",
       "    </tr>\n",
       "    <tr>\n",
       "      <th>against_psychic</th>\n",
       "      <td>801.0</td>\n",
       "      <td>1.005306e+00</td>\n",
       "      <td>0.495183</td>\n",
       "      <td>0.00</td>\n",
       "      <td>1.0</td>\n",
       "      <td>1.0</td>\n",
       "      <td>1.0</td>\n",
       "      <td>4.0</td>\n",
       "    </tr>\n",
       "    <tr>\n",
       "      <th>against_rock</th>\n",
       "      <td>801.0</td>\n",
       "      <td>1.250312e+00</td>\n",
       "      <td>0.697148</td>\n",
       "      <td>0.25</td>\n",
       "      <td>1.0</td>\n",
       "      <td>1.0</td>\n",
       "      <td>2.0</td>\n",
       "      <td>4.0</td>\n",
       "    </tr>\n",
       "    <tr>\n",
       "      <th>against_steel</th>\n",
       "      <td>801.0</td>\n",
       "      <td>9.834582e-01</td>\n",
       "      <td>0.500117</td>\n",
       "      <td>0.25</td>\n",
       "      <td>0.5</td>\n",
       "      <td>1.0</td>\n",
       "      <td>1.0</td>\n",
       "      <td>4.0</td>\n",
       "    </tr>\n",
       "    <tr>\n",
       "      <th>against_water</th>\n",
       "      <td>801.0</td>\n",
       "      <td>1.058365e+00</td>\n",
       "      <td>0.606562</td>\n",
       "      <td>0.25</td>\n",
       "      <td>0.5</td>\n",
       "      <td>1.0</td>\n",
       "      <td>1.0</td>\n",
       "      <td>4.0</td>\n",
       "    </tr>\n",
       "    <tr>\n",
       "      <th>attack</th>\n",
       "      <td>801.0</td>\n",
       "      <td>7.785768e+01</td>\n",
       "      <td>32.158820</td>\n",
       "      <td>5.00</td>\n",
       "      <td>55.0</td>\n",
       "      <td>75.0</td>\n",
       "      <td>100.0</td>\n",
       "      <td>185.0</td>\n",
       "    </tr>\n",
       "    <tr>\n",
       "      <th>base_egg_steps</th>\n",
       "      <td>801.0</td>\n",
       "      <td>7.191011e+03</td>\n",
       "      <td>6558.220422</td>\n",
       "      <td>1280.00</td>\n",
       "      <td>5120.0</td>\n",
       "      <td>5120.0</td>\n",
       "      <td>6400.0</td>\n",
       "      <td>30720.0</td>\n",
       "    </tr>\n",
       "    <tr>\n",
       "      <th>base_happiness</th>\n",
       "      <td>801.0</td>\n",
       "      <td>6.536205e+01</td>\n",
       "      <td>19.598948</td>\n",
       "      <td>0.00</td>\n",
       "      <td>70.0</td>\n",
       "      <td>70.0</td>\n",
       "      <td>70.0</td>\n",
       "      <td>140.0</td>\n",
       "    </tr>\n",
       "    <tr>\n",
       "      <th>base_total</th>\n",
       "      <td>801.0</td>\n",
       "      <td>4.283770e+02</td>\n",
       "      <td>119.203577</td>\n",
       "      <td>180.00</td>\n",
       "      <td>320.0</td>\n",
       "      <td>435.0</td>\n",
       "      <td>505.0</td>\n",
       "      <td>780.0</td>\n",
       "    </tr>\n",
       "    <tr>\n",
       "      <th>defense</th>\n",
       "      <td>801.0</td>\n",
       "      <td>7.300874e+01</td>\n",
       "      <td>30.769159</td>\n",
       "      <td>5.00</td>\n",
       "      <td>50.0</td>\n",
       "      <td>70.0</td>\n",
       "      <td>90.0</td>\n",
       "      <td>230.0</td>\n",
       "    </tr>\n",
       "    <tr>\n",
       "      <th>experience_growth</th>\n",
       "      <td>801.0</td>\n",
       "      <td>1.054996e+06</td>\n",
       "      <td>160255.835096</td>\n",
       "      <td>600000.00</td>\n",
       "      <td>1000000.0</td>\n",
       "      <td>1000000.0</td>\n",
       "      <td>1059860.0</td>\n",
       "      <td>1640000.0</td>\n",
       "    </tr>\n",
       "    <tr>\n",
       "      <th>height_m</th>\n",
       "      <td>781.0</td>\n",
       "      <td>1.163892e+00</td>\n",
       "      <td>1.080326</td>\n",
       "      <td>0.10</td>\n",
       "      <td>0.6</td>\n",
       "      <td>1.0</td>\n",
       "      <td>1.5</td>\n",
       "      <td>14.5</td>\n",
       "    </tr>\n",
       "    <tr>\n",
       "      <th>hp</th>\n",
       "      <td>801.0</td>\n",
       "      <td>6.895880e+01</td>\n",
       "      <td>26.576015</td>\n",
       "      <td>1.00</td>\n",
       "      <td>50.0</td>\n",
       "      <td>65.0</td>\n",
       "      <td>80.0</td>\n",
       "      <td>255.0</td>\n",
       "    </tr>\n",
       "    <tr>\n",
       "      <th>percentage_male</th>\n",
       "      <td>703.0</td>\n",
       "      <td>5.515576e+01</td>\n",
       "      <td>20.261623</td>\n",
       "      <td>0.00</td>\n",
       "      <td>50.0</td>\n",
       "      <td>50.0</td>\n",
       "      <td>50.0</td>\n",
       "      <td>100.0</td>\n",
       "    </tr>\n",
       "    <tr>\n",
       "      <th>pokedex_number</th>\n",
       "      <td>801.0</td>\n",
       "      <td>4.010000e+02</td>\n",
       "      <td>231.373075</td>\n",
       "      <td>1.00</td>\n",
       "      <td>201.0</td>\n",
       "      <td>401.0</td>\n",
       "      <td>601.0</td>\n",
       "      <td>801.0</td>\n",
       "    </tr>\n",
       "    <tr>\n",
       "      <th>sp_attack</th>\n",
       "      <td>801.0</td>\n",
       "      <td>7.130587e+01</td>\n",
       "      <td>32.353826</td>\n",
       "      <td>10.00</td>\n",
       "      <td>45.0</td>\n",
       "      <td>65.0</td>\n",
       "      <td>91.0</td>\n",
       "      <td>194.0</td>\n",
       "    </tr>\n",
       "    <tr>\n",
       "      <th>sp_defense</th>\n",
       "      <td>801.0</td>\n",
       "      <td>7.091136e+01</td>\n",
       "      <td>27.942501</td>\n",
       "      <td>20.00</td>\n",
       "      <td>50.0</td>\n",
       "      <td>66.0</td>\n",
       "      <td>90.0</td>\n",
       "      <td>230.0</td>\n",
       "    </tr>\n",
       "    <tr>\n",
       "      <th>speed</th>\n",
       "      <td>801.0</td>\n",
       "      <td>6.633458e+01</td>\n",
       "      <td>28.907662</td>\n",
       "      <td>5.00</td>\n",
       "      <td>45.0</td>\n",
       "      <td>65.0</td>\n",
       "      <td>85.0</td>\n",
       "      <td>180.0</td>\n",
       "    </tr>\n",
       "    <tr>\n",
       "      <th>weight_kg</th>\n",
       "      <td>781.0</td>\n",
       "      <td>6.137810e+01</td>\n",
       "      <td>109.354766</td>\n",
       "      <td>0.10</td>\n",
       "      <td>9.0</td>\n",
       "      <td>27.3</td>\n",
       "      <td>64.8</td>\n",
       "      <td>999.9</td>\n",
       "    </tr>\n",
       "    <tr>\n",
       "      <th>generation</th>\n",
       "      <td>801.0</td>\n",
       "      <td>3.690387e+00</td>\n",
       "      <td>1.930420</td>\n",
       "      <td>1.00</td>\n",
       "      <td>2.0</td>\n",
       "      <td>4.0</td>\n",
       "      <td>5.0</td>\n",
       "      <td>7.0</td>\n",
       "    </tr>\n",
       "    <tr>\n",
       "      <th>is_legendary</th>\n",
       "      <td>801.0</td>\n",
       "      <td>8.739076e-02</td>\n",
       "      <td>0.282583</td>\n",
       "      <td>0.00</td>\n",
       "      <td>0.0</td>\n",
       "      <td>0.0</td>\n",
       "      <td>0.0</td>\n",
       "      <td>1.0</td>\n",
       "    </tr>\n",
       "  </tbody>\n",
       "</table>\n",
       "</div>"
      ],
      "text/plain": [
       "                   count          mean            std        min        25%  \\\n",
       "against_bug        801.0  9.962547e-01       0.597248       0.25        0.5   \n",
       "against_dark       801.0  1.057116e+00       0.438142       0.25        1.0   \n",
       "against_dragon     801.0  9.687890e-01       0.353058       0.00        1.0   \n",
       "against_electric   801.0  1.073970e+00       0.654962       0.00        0.5   \n",
       "against_fairy      801.0  1.068976e+00       0.522167       0.25        1.0   \n",
       "against_fight      801.0  1.065543e+00       0.717251       0.00        0.5   \n",
       "against_fire       801.0  1.135456e+00       0.691853       0.25        0.5   \n",
       "against_flying     801.0  1.192884e+00       0.604488       0.25        1.0   \n",
       "against_ghost      801.0  9.850187e-01       0.558256       0.00        1.0   \n",
       "against_grass      801.0  1.034020e+00       0.788896       0.25        0.5   \n",
       "against_ground     801.0  1.098002e+00       0.738818       0.00        1.0   \n",
       "against_ice        801.0  1.208177e+00       0.735356       0.25        0.5   \n",
       "against_normal     801.0  8.870162e-01       0.266106       0.00        1.0   \n",
       "against_poison     801.0  9.753433e-01       0.549375       0.00        0.5   \n",
       "against_psychic    801.0  1.005306e+00       0.495183       0.00        1.0   \n",
       "against_rock       801.0  1.250312e+00       0.697148       0.25        1.0   \n",
       "against_steel      801.0  9.834582e-01       0.500117       0.25        0.5   \n",
       "against_water      801.0  1.058365e+00       0.606562       0.25        0.5   \n",
       "attack             801.0  7.785768e+01      32.158820       5.00       55.0   \n",
       "base_egg_steps     801.0  7.191011e+03    6558.220422    1280.00     5120.0   \n",
       "base_happiness     801.0  6.536205e+01      19.598948       0.00       70.0   \n",
       "base_total         801.0  4.283770e+02     119.203577     180.00      320.0   \n",
       "defense            801.0  7.300874e+01      30.769159       5.00       50.0   \n",
       "experience_growth  801.0  1.054996e+06  160255.835096  600000.00  1000000.0   \n",
       "height_m           781.0  1.163892e+00       1.080326       0.10        0.6   \n",
       "hp                 801.0  6.895880e+01      26.576015       1.00       50.0   \n",
       "percentage_male    703.0  5.515576e+01      20.261623       0.00       50.0   \n",
       "pokedex_number     801.0  4.010000e+02     231.373075       1.00      201.0   \n",
       "sp_attack          801.0  7.130587e+01      32.353826      10.00       45.0   \n",
       "sp_defense         801.0  7.091136e+01      27.942501      20.00       50.0   \n",
       "speed              801.0  6.633458e+01      28.907662       5.00       45.0   \n",
       "weight_kg          781.0  6.137810e+01     109.354766       0.10        9.0   \n",
       "generation         801.0  3.690387e+00       1.930420       1.00        2.0   \n",
       "is_legendary       801.0  8.739076e-02       0.282583       0.00        0.0   \n",
       "\n",
       "                         50%        75%        max  \n",
       "against_bug              1.0        1.0        4.0  \n",
       "against_dark             1.0        1.0        4.0  \n",
       "against_dragon           1.0        1.0        2.0  \n",
       "against_electric         1.0        1.0        4.0  \n",
       "against_fairy            1.0        1.0        4.0  \n",
       "against_fight            1.0        1.0        4.0  \n",
       "against_fire             1.0        2.0        4.0  \n",
       "against_flying           1.0        1.0        4.0  \n",
       "against_ghost            1.0        1.0        4.0  \n",
       "against_grass            1.0        1.0        4.0  \n",
       "against_ground           1.0        1.0        4.0  \n",
       "against_ice              1.0        2.0        4.0  \n",
       "against_normal           1.0        1.0        1.0  \n",
       "against_poison           1.0        1.0        4.0  \n",
       "against_psychic          1.0        1.0        4.0  \n",
       "against_rock             1.0        2.0        4.0  \n",
       "against_steel            1.0        1.0        4.0  \n",
       "against_water            1.0        1.0        4.0  \n",
       "attack                  75.0      100.0      185.0  \n",
       "base_egg_steps        5120.0     6400.0    30720.0  \n",
       "base_happiness          70.0       70.0      140.0  \n",
       "base_total             435.0      505.0      780.0  \n",
       "defense                 70.0       90.0      230.0  \n",
       "experience_growth  1000000.0  1059860.0  1640000.0  \n",
       "height_m                 1.0        1.5       14.5  \n",
       "hp                      65.0       80.0      255.0  \n",
       "percentage_male         50.0       50.0      100.0  \n",
       "pokedex_number         401.0      601.0      801.0  \n",
       "sp_attack               65.0       91.0      194.0  \n",
       "sp_defense              66.0       90.0      230.0  \n",
       "speed                   65.0       85.0      180.0  \n",
       "weight_kg               27.3       64.8      999.9  \n",
       "generation               4.0        5.0        7.0  \n",
       "is_legendary             0.0        0.0        1.0  "
      ]
     },
     "execution_count": 1739,
     "metadata": {},
     "output_type": "execute_result"
    }
   ],
   "source": [
    "data.describe().T"
   ]
  },
  {
   "cell_type": "code",
   "execution_count": 1740,
   "metadata": {},
   "outputs": [
    {
     "data": {
      "text/plain": [
       "array([ 88.1,  50. ,   0. , 100. ,  24.6,  75.4,   nan,  11.2])"
      ]
     },
     "execution_count": 1740,
     "metadata": {},
     "output_type": "execute_result"
    }
   ],
   "source": [
    "data['percentage_male'].unique()"
   ]
  },
  {
   "cell_type": "code",
   "execution_count": 1741,
   "metadata": {},
   "outputs": [],
   "source": [
    "female = data[data['percentage_male']==0]"
   ]
  },
  {
   "cell_type": "code",
   "execution_count": 1742,
   "metadata": {},
   "outputs": [
    {
     "data": {
      "text/plain": [
       "28       Nidoran♀\n",
       "29       Nidorina\n",
       "30      Nidoqueen\n",
       "112       Chansey\n",
       "114    Kangaskhan\n",
       "123          Jynx\n",
       "237      Smoochum\n",
       "240       Miltank\n",
       "241       Blissey\n",
       "313      Illumise\n",
       "379        Latias\n",
       "412      Wormadam\n",
       "415     Vespiquen\n",
       "439       Happiny\n",
       "477      Froslass\n",
       "487     Cresselia\n",
       "547       Petilil\n",
       "548     Lilligant\n",
       "628       Vullaby\n",
       "629     Mandibuzz\n",
       "668       Flabébé\n",
       "669       Floette\n",
       "670       Florges\n",
       "757      Salazzle\n",
       "760     Bounsweet\n",
       "761       Steenee\n",
       "762      Tsareena\n",
       "Name: name, dtype: object"
      ]
     },
     "execution_count": 1742,
     "metadata": {},
     "output_type": "execute_result"
    }
   ],
   "source": [
    "female.name"
   ]
  },
  {
   "cell_type": "markdown",
   "metadata": {},
   "source": [
    "Cuando tienen valor 0 en la columna percentage_male es Hembra"
   ]
  },
  {
   "cell_type": "code",
   "execution_count": 1743,
   "metadata": {},
   "outputs": [
    {
     "data": {
      "text/plain": [
       "array(['45', '255', '120', '127', '90', '190', '75', '235', '150', '25',\n",
       "       '170', '50', '200', '100', '180', '60', '225', '30', '35', '3',\n",
       "       '65', '70', '125', '205', '155', '145', '130', '140', '15', '220',\n",
       "       '160', '80', '55', '30 (Meteorite)255 (Core)'], dtype=object)"
      ]
     },
     "execution_count": 1743,
     "metadata": {},
     "output_type": "execute_result"
    }
   ],
   "source": [
    "data.capture_rate.unique()"
   ]
  },
  {
   "cell_type": "code",
   "execution_count": 1744,
   "metadata": {},
   "outputs": [],
   "source": [
    "data[\"capture_rate\"].replace({'30 (Meteorite)255 (Core)': np.nan}, inplace=True)\n",
    "data[\"capture_rate\"] = pd.to_numeric(data[\"capture_rate\"])"
   ]
  },
  {
   "cell_type": "code",
   "execution_count": 1745,
   "metadata": {},
   "outputs": [
    {
     "data": {
      "text/plain": [
       "abilities              0\n",
       "against_bug            0\n",
       "against_dark           0\n",
       "against_dragon         0\n",
       "against_electric       0\n",
       "against_fairy          0\n",
       "against_fight          0\n",
       "against_fire           0\n",
       "against_flying         0\n",
       "against_ghost          0\n",
       "against_grass          0\n",
       "against_ground         0\n",
       "against_ice            0\n",
       "against_normal         0\n",
       "against_poison         0\n",
       "against_psychic        0\n",
       "against_rock           0\n",
       "against_steel          0\n",
       "against_water          0\n",
       "attack                 0\n",
       "base_egg_steps         0\n",
       "base_happiness         0\n",
       "base_total             0\n",
       "capture_rate           1\n",
       "classfication          0\n",
       "defense                0\n",
       "experience_growth      0\n",
       "height_m              20\n",
       "hp                     0\n",
       "japanese_name          0\n",
       "name                   0\n",
       "percentage_male       98\n",
       "pokedex_number         0\n",
       "sp_attack              0\n",
       "sp_defense             0\n",
       "speed                  0\n",
       "type1                  0\n",
       "type2                384\n",
       "weight_kg             20\n",
       "generation             0\n",
       "is_legendary           0\n",
       "dtype: int64"
      ]
     },
     "execution_count": 1745,
     "metadata": {},
     "output_type": "execute_result"
    }
   ],
   "source": [
    "#Cantidad de Nulos por Columna\n",
    "data.isna().sum()"
   ]
  },
  {
   "cell_type": "code",
   "execution_count": 1746,
   "metadata": {},
   "outputs": [],
   "source": [
    "#data = data[['name','type1', 'type2','hp','attack', 'defense','sp_attack', 'sp_defense','base_total',  'speed','generation','is_legendary']]"
   ]
  },
  {
   "cell_type": "code",
   "execution_count": 1747,
   "metadata": {},
   "outputs": [],
   "source": [
    "data['type2'].fillna('Sin Dato', inplace=True)"
   ]
  },
  {
   "cell_type": "code",
   "execution_count": 1748,
   "metadata": {},
   "outputs": [
    {
     "data": {
      "text/plain": [
       "pandas.core.series.Series"
      ]
     },
     "execution_count": 1748,
     "metadata": {},
     "output_type": "execute_result"
    }
   ],
   "source": [
    "type(data.name)"
   ]
  },
  {
   "cell_type": "code",
   "execution_count": 1749,
   "metadata": {},
   "outputs": [
    {
     "data": {
      "text/plain": [
       "0"
      ]
     },
     "execution_count": 1749,
     "metadata": {},
     "output_type": "execute_result"
    }
   ],
   "source": [
    "\n",
    "data[data.duplicated(keep=False)].size"
   ]
  },
  {
   "cell_type": "code",
   "execution_count": 1750,
   "metadata": {},
   "outputs": [],
   "source": [
    "%matplotlib inline"
   ]
  },
  {
   "cell_type": "code",
   "execution_count": 1751,
   "metadata": {},
   "outputs": [
    {
     "data": {
      "text/plain": [
       "<Axes: >"
      ]
     },
     "execution_count": 1751,
     "metadata": {},
     "output_type": "execute_result"
    },
    {
     "data": {
      "image/png": "[encoded data removed]",
      "text/plain": [
       "<Figure size 640x480 with 1 Axes>"
      ]
     },
     "metadata": {},
     "output_type": "display_data"
    }
   ],
   "source": [
    "data['attack'].hist()"
   ]
  },
  {
   "cell_type": "markdown",
   "metadata": {},
   "source": [
    "Se puede reconocer que la mayoría de valores de Attack estan concentrados en el rango de 50 - 100\n"
   ]
  },
  {
   "cell_type": "code",
   "execution_count": 1752,
   "metadata": {},
   "outputs": [],
   "source": [
    "#data.describe()"
   ]
  },
  {
   "cell_type": "markdown",
   "metadata": {},
   "source": [
    "### Total Promedio de cada Pokemon"
   ]
  },
  {
   "cell_type": "code",
   "execution_count": 1753,
   "metadata": {},
   "outputs": [
    {
     "data": {
      "text/plain": [
       "type1\n",
       "dragon      106.407407\n",
       "fighting     99.178571\n",
       "ground       94.812500\n",
       "steel        93.083333\n",
       "rock         90.666667\n",
       "dark         87.793103\n",
       "fire         81.500000\n",
       "normal       75.161905\n",
       "grass        73.769231\n",
       "water        73.307018\n",
       "ice          73.304348\n",
       "ghost        72.740741\n",
       "poison       72.656250\n",
       "electric     70.820513\n",
       "bug          70.125000\n",
       "flying       66.666667\n",
       "psychic      65.566038\n",
       "fairy        62.111111\n",
       "Name: attack, dtype: float64"
      ]
     },
     "execution_count": 1753,
     "metadata": {},
     "output_type": "execute_result"
    }
   ],
   "source": [
    "data.groupby('type1')['attack'].mean().sort_values(ascending=False)"
   ]
  },
  {
   "cell_type": "code",
   "execution_count": 1754,
   "metadata": {},
   "outputs": [
    {
     "data": {
      "text/plain": [
       "type2\n",
       "fighting    107.960000\n",
       "steel        97.454545\n",
       "dark         95.904762\n",
       "ghost        95.571429\n",
       "ice          88.666667\n",
       "dragon       88.470588\n",
       "rock         86.857143\n",
       "ground       86.058824\n",
       "flying       78.389474\n",
       "grass        78.250000\n",
       "psychic      76.586207\n",
       "bug          76.000000\n",
       "electric     74.777778\n",
       "Sin Dato     74.231771\n",
       "water        70.176471\n",
       "poison       67.617647\n",
       "fire         66.000000\n",
       "fairy        63.482759\n",
       "normal       52.750000\n",
       "Name: attack, dtype: float64"
      ]
     },
     "execution_count": 1754,
     "metadata": {},
     "output_type": "execute_result"
    }
   ],
   "source": [
    "data.groupby('type2')['attack'].mean().sort_values(ascending=False)"
   ]
  },
  {
   "cell_type": "markdown",
   "metadata": {},
   "source": [
    "### Attack máximo de cada combinación de Type1 y Type2"
   ]
  },
  {
   "cell_type": "code",
   "execution_count": 1755,
   "metadata": {},
   "outputs": [
    {
     "data": {
      "text/plain": [
       "type1   type2   \n",
       "bug     fighting    185\n",
       "grass   steel       181\n",
       "dragon  flying      180\n",
       "ground  Sin Dato    180\n",
       "dragon  ground      170\n",
       "                   ... \n",
       "fairy   flying       50\n",
       "fire    rock         50\n",
       "ice     psychic      50\n",
       "bug     ground       45\n",
       "fire    fire         30\n",
       "Name: attack, Length: 166, dtype: int64"
      ]
     },
     "execution_count": 1755,
     "metadata": {},
     "output_type": "execute_result"
    }
   ],
   "source": [
    "data.groupby(['type1','type2'])['attack'].max().sort_values(ascending=False)"
   ]
  },
  {
   "cell_type": "code",
   "execution_count": 1756,
   "metadata": {},
   "outputs": [
    {
     "data": {
      "text/plain": [
       "<seaborn.axisgrid.JointGrid at 0x257b2416110>"
      ]
     },
     "execution_count": 1756,
     "metadata": {},
     "output_type": "execute_result"
    },
    {
     "data": {
      "image/png": "[encoded data removed]",
      "text/plain": [
       "<Figure size 600x600 with 3 Axes>"
      ]
     },
     "metadata": {},
     "output_type": "display_data"
    }
   ],
   "source": [
    "sns.jointplot(x='sp_attack' , y= 'sp_defense', data=data , kind='reg' )"
   ]
  },
  {
   "cell_type": "markdown",
   "metadata": {},
   "source": [
    "Reg = representa la regresión Lineal entre 2 variables (x, y) "
   ]
  },
  {
   "cell_type": "code",
   "execution_count": 1757,
   "metadata": {},
   "outputs": [],
   "source": [
    "dataPlot = data[['type1', 'type2','hp','attack', 'defense','sp_attack', 'sp_defense', 'speed']]"
   ]
  },
  {
   "cell_type": "code",
   "execution_count": 1758,
   "metadata": {},
   "outputs": [
    {
     "data": {
      "image/png": "[encoded data removed]",
      "text/plain": [
       "<Figure size 640x480 with 1 Axes>"
      ]
     },
     "metadata": {},
     "output_type": "display_data"
    }
   ],
   "source": [
    "sns.boxplot(data=dataPlot)\n",
    "plt.show()"
   ]
  },
  {
   "cell_type": "markdown",
   "metadata": {},
   "source": [
    "Sobre la columna 'Attack' podemos decir que el 75% de los valores son menores a 100 y el 25% de los valores son menos de 60 "
   ]
  },
  {
   "cell_type": "markdown",
   "metadata": {},
   "source": [
    "### Frecuencia de Pokemon por Tipo Principal y Secundario"
   ]
  },
  {
   "cell_type": "code",
   "execution_count": 1759,
   "metadata": {},
   "outputs": [
    {
     "data": {
      "image/png": "[encoded data removed]",
      "text/plain": [
       "<Figure size 1700x500 with 1 Axes>"
      ]
     },
     "metadata": {},
     "output_type": "display_data"
    }
   ],
   "source": [
    "plt.figure(figsize=(17, 5))\n",
    "plt.title(\"Frecuencia de Pokemon por Tipo\")\n",
    "s = data['type1'].value_counts().rename_axis('Tipo Principal')\n",
    "sns.barplot(x=s.index, y=s.values, order = data['type1'].value_counts().index)\n",
    "plt.show()"
   ]
  },
  {
   "cell_type": "code",
   "execution_count": 1760,
   "metadata": {},
   "outputs": [
    {
     "data": {
      "image/png": "[encoded data removed]",
      "text/plain": [
       "<Figure size 1500x500 with 1 Axes>"
      ]
     },
     "metadata": {},
     "output_type": "display_data"
    }
   ],
   "source": [
    "barplot = data.drop(data[data['type2']=='Sin Dato'].index)\n",
    "barplot = barplot.reset_index(drop=True)\n",
    " \n",
    "plt.figure(figsize=(15, 5))\n",
    "plt.title(\"Frecuencia de Pokemon por Tipo\")\n",
    "s = barplot['type2'].value_counts().rename_axis('Tipo Secundario')\n",
    "sns.barplot(x=s.index, y=s.values, data=barplot, order = barplot['type2'].value_counts().index)\n",
    "plt.show()"
   ]
  }
 ],
 "metadata": {
  "kernelspec": {
   "display_name": "myenv",
   "language": "python",
   "name": "python3"
  },
  "language_info": {
   "codemirror_mode": {
    "name": "ipython",
    "version": 3
   },
   "file_extension": ".py",
   "mimetype": "text/x-python",
   "name": "python",
   "nbconvert_exporter": "python",
   "pygments_lexer": "ipython3",
   "version": "3.11.4"
  },
  "orig_nbformat": 4
 },
 "nbformat": 4,
 "nbformat_minor": 2
}
